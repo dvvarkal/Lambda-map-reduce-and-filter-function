{
 "cells": [
  {
   "cell_type": "code",
   "execution_count": null,
   "id": "db171553-68ad-4da6-bc1d-5ff5c69871e7",
   "metadata": {},
   "outputs": [],
   "source": [
    "ANS.(1)"
   ]
  },
  {
   "cell_type": "code",
   "execution_count": 1,
   "id": "b7037c2b-8ee3-40be-80b5-9ae6646d4248",
   "metadata": {},
   "outputs": [
    {
     "name": "stdout",
     "output_type": "stream",
     "text": [
      "[('Sachin Tendulkar', 34357), ('Ricky Ponting', 27483), ('Jack Kallis', 25534), ('Virat Kohli', 24936)]\n"
     ]
    }
   ],
   "source": [
    "data = [('Sachin Tendulkar', 34357), ('Ricky Ponting', 27483), ('Jack Kallis', 25534), ('Virat Kohli', 24936)]\n",
    "\n",
    "sorted_data = sorted(data, key=lambda x: x[1], reverse=True)\n",
    "\n",
    "print(sorted_data)"
   ]
  },
  {
   "cell_type": "code",
   "execution_count": null,
   "id": "39591cbc-11b4-496c-8635-eb5f8b7218f7",
   "metadata": {},
   "outputs": [],
   "source": [
    "ANS.(2)"
   ]
  },
  {
   "cell_type": "code",
   "execution_count": 1,
   "id": "3c915b4c-8f80-47aa-b3f5-9fdaf83092a6",
   "metadata": {},
   "outputs": [],
   "source": [
    "l=[1,2,3,4,5,6,7,8,9,10]"
   ]
  },
  {
   "cell_type": "code",
   "execution_count": 2,
   "id": "269dd3f5-ce83-4470-b367-45a45a789459",
   "metadata": {},
   "outputs": [],
   "source": [
    "def sq(x):\n",
    "    return x**2"
   ]
  },
  {
   "cell_type": "code",
   "execution_count": 3,
   "id": "dc4e9b77-e439-4eaf-92be-ce91328deaf5",
   "metadata": {},
   "outputs": [
    {
     "data": {
      "text/plain": [
       "[1, 4, 9, 16, 25, 36, 49, 64, 81, 100]"
      ]
     },
     "execution_count": 3,
     "metadata": {},
     "output_type": "execute_result"
    }
   ],
   "source": [
    "list(map(sq,l))"
   ]
  },
  {
   "cell_type": "code",
   "execution_count": 7,
   "id": "edc412e3-8199-4553-8f61-575813429e77",
   "metadata": {},
   "outputs": [
    {
     "data": {
      "text/plain": [
       "[1, 4, 9, 16, 25, 36, 49, 64, 81, 100]"
      ]
     },
     "execution_count": 7,
     "metadata": {},
     "output_type": "execute_result"
    }
   ],
   "source": [
    "list(map(lambda x:x**2,l))"
   ]
  },
  {
   "cell_type": "code",
   "execution_count": null,
   "id": "4ada332a-2cb5-4ff6-b77d-2b14484fdc0a",
   "metadata": {},
   "outputs": [],
   "source": [
    "ANS.(3)"
   ]
  },
  {
   "cell_type": "code",
   "execution_count": 8,
   "id": "6d47778e-7916-4cb0-89e7-23097635519a",
   "metadata": {},
   "outputs": [
    {
     "name": "stdout",
     "output_type": "stream",
     "text": [
      "('1', '2', '3', '4', '5', '6', '7', '8', '9', '10')\n"
     ]
    }
   ],
   "source": [
    "int_list = [1, 2, 3, 4, 5, 6, 7, 8, 9, 10]\n",
    "str_tuple = tuple(map(lambda x: str(x), int_list))\n",
    "print(str_tuple)"
   ]
  },
  {
   "cell_type": "code",
   "execution_count": null,
   "id": "9ce2926e-25da-43a1-863e-9375c9918046",
   "metadata": {},
   "outputs": [],
   "source": [
    "ANS.(4)"
   ]
  },
  {
   "cell_type": "code",
   "execution_count": 2,
   "id": "543a404a-b4b4-40a8-9cc8-cfec43f987ae",
   "metadata": {},
   "outputs": [],
   "source": [
    "from functools import reduce"
   ]
  },
  {
   "cell_type": "code",
   "execution_count": 8,
   "id": "cfda73ae-0635-471a-98e9-67b6cc9dc402",
   "metadata": {},
   "outputs": [],
   "source": [
    "l=[1,2,3,4,5,6,7,8,9,10,11,12,13,14,15,16,17,18,19,20,21,22,23,24,25]"
   ]
  },
  {
   "cell_type": "code",
   "execution_count": 11,
   "id": "4d045c8e-e210-4a08-bdf7-4b09bfe7bd33",
   "metadata": {},
   "outputs": [
    {
     "name": "stdout",
     "output_type": "stream",
     "text": [
      "15511210043330985984000000\n"
     ]
    }
   ],
   "source": [
    "product = reduce(lambda x, y: x * y,l)\n",
    "print(product)"
   ]
  },
  {
   "cell_type": "code",
   "execution_count": null,
   "id": "c63139d7-3135-4a17-ada4-0040ebd3aa1d",
   "metadata": {},
   "outputs": [],
   "source": [
    "ANS.(5)"
   ]
  },
  {
   "cell_type": "code",
   "execution_count": 12,
   "id": "8a7699b5-419e-42b9-a522-6d21c979a67a",
   "metadata": {},
   "outputs": [],
   "source": [
    "l=[2,3,6,9,27,60,90,120,55,46]"
   ]
  },
  {
   "cell_type": "code",
   "execution_count": 13,
   "id": "f9126060-1f11-4293-9b6d-d0674aa0d687",
   "metadata": {},
   "outputs": [
    {
     "data": {
      "text/plain": [
       "[2, 6, 60, 90, 120, 46]"
      ]
     },
     "execution_count": 13,
     "metadata": {},
     "output_type": "execute_result"
    }
   ],
   "source": [
    "list(filter(lambda x:x%2==0,l))"
   ]
  },
  {
   "cell_type": "code",
   "execution_count": 14,
   "id": "6118aedf-ca06-4e60-addb-cab6648646a0",
   "metadata": {},
   "outputs": [],
   "source": [
    "l=[2,3,6,9,27,60,90,120,55,46]"
   ]
  },
  {
   "cell_type": "code",
   "execution_count": 15,
   "id": "730ef9f9-296c-4132-b57d-c88a7062f3a3",
   "metadata": {},
   "outputs": [
    {
     "data": {
      "text/plain": [
       "[3, 6, 9, 27, 60, 90, 120]"
      ]
     },
     "execution_count": 15,
     "metadata": {},
     "output_type": "execute_result"
    }
   ],
   "source": [
    "list(filter(lambda x:x%3==0,l))"
   ]
  },
  {
   "cell_type": "code",
   "execution_count": null,
   "id": "53a1b844-c3d2-4ddf-8765-d54eb6af886b",
   "metadata": {},
   "outputs": [],
   "source": [
    "ANS.(6)"
   ]
  },
  {
   "cell_type": "code",
   "execution_count": 1,
   "id": "8c97e4a7-acef-49f6-a8ce-4a71bef5afd7",
   "metadata": {},
   "outputs": [
    {
     "name": "stdout",
     "output_type": "stream",
     "text": [
      "['php', 'aba', 'radar', 'level']\n"
     ]
    }
   ],
   "source": [
    "string_list = ['python', 'php', 'aba', 'radar', 'level']\n",
    "\n",
    "palindromes = list(filter(lambda x: x == x[::-1], string_list))\n",
    "\n",
    "print(palindromes)"
   ]
  },
  {
   "cell_type": "code",
   "execution_count": null,
   "id": "7cef91d1-c04b-458d-8614-4d270297a746",
   "metadata": {},
   "outputs": [],
   "source": []
  }
 ],
 "metadata": {
  "kernelspec": {
   "display_name": "Python 3 (ipykernel)",
   "language": "python",
   "name": "python3"
  },
  "language_info": {
   "codemirror_mode": {
    "name": "ipython",
    "version": 3
   },
   "file_extension": ".py",
   "mimetype": "text/x-python",
   "name": "python",
   "nbconvert_exporter": "python",
   "pygments_lexer": "ipython3",
   "version": "3.10.8"
  }
 },
 "nbformat": 4,
 "nbformat_minor": 5
}
